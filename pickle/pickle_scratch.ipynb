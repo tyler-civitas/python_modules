{
 "cells": [
  {
   "cell_type": "code",
   "execution_count": 1,
   "metadata": {
    "collapsed": true
   },
   "outputs": [],
   "source": [
    "import pickle"
   ]
  },
  {
   "cell_type": "code",
   "execution_count": 7,
   "metadata": {
    "collapsed": true
   },
   "outputs": [],
   "source": [
    "class TestClass(object):\n",
    "    \n",
    "    def __init__(self):\n",
    "        pass\n",
    "    \n",
    "    def method1(self):\n",
    "        pass\n",
    "    \n",
    "testobj = TestClass()\n",
    "testlist = [1, 2, 3]\n",
    "    \n",
    "with open(\"dumppickle.pkl\", \"wb\") as fileout:\n",
    "    \n",
    "    #Test the .dump() method\n",
    "    pickle.dump(testobj, fileout)\n",
    "    \n",
    "    #test adding a second item to dump file\n",
    "    pickle.dump(testlist, fileout)"
   ]
  },
  {
   "cell_type": "code",
   "execution_count": 11,
   "metadata": {
    "collapsed": false
   },
   "outputs": [
    {
     "name": "stdout",
     "output_type": "stream",
     "text": [
      "<__main__.TestClass object at 0x10b2409d0>\n",
      "[1, 2, 3]\n"
     ]
    }
   ],
   "source": [
    "import pprint\n",
    "\n",
    "with open(\"dumppickle.pkl\", \"rb\") as filein:\n",
    "    \n",
    "    data1 = pickle.load(filein)\n",
    "    pprint.pprint(data1)\n",
    "    \n",
    "    data2 = pickle.load(filein)\n",
    "    pprint.pprint(data2)"
   ]
  },
  {
   "cell_type": "code",
   "execution_count": 13,
   "metadata": {
    "collapsed": false
   },
   "outputs": [
    {
     "data": {
      "text/plain": [
       "[1, 2, 3]"
      ]
     },
     "execution_count": 13,
     "metadata": {},
     "output_type": "execute_result"
    }
   ],
   "source": []
  },
  {
   "cell_type": "code",
   "execution_count": null,
   "metadata": {
    "collapsed": true
   },
   "outputs": [],
   "source": []
  }
 ],
 "metadata": {
  "kernelspec": {
   "display_name": "Python [conda root]",
   "language": "python",
   "name": "conda-root-py"
  },
  "language_info": {
   "codemirror_mode": {
    "name": "ipython",
    "version": 2
   },
   "file_extension": ".py",
   "mimetype": "text/x-python",
   "name": "python",
   "nbconvert_exporter": "python",
   "pygments_lexer": "ipython2",
   "version": "2.7.13"
  }
 },
 "nbformat": 4,
 "nbformat_minor": 2
}
